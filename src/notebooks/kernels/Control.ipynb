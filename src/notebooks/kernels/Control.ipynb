{
 "cells": [
  {
   "cell_type": "markdown",
   "metadata": {},
   "source": [
    "## Control notebook\n",
    "Hands in the unchanged input images to Kaggle as a control test."
   ]
  },
  {
   "cell_type": "code",
   "execution_count": 1,
   "metadata": {
    "_cell_guid": "b1076dfc-b9ad-4769-8c92-a6c4dae69d19",
    "_uuid": "8f2839f25d086af736a60e9eeb907d3b93b6e0e5",
    "execution": {
     "iopub.execute_input": "2021-01-30T15:44:43.767332Z",
     "iopub.status.busy": "2021-01-30T15:44:43.766505Z",
     "iopub.status.idle": "2021-01-30T15:44:43.769327Z",
     "shell.execute_reply": "2021-01-30T15:44:43.768612Z"
    },
    "papermill": {
     "duration": 0.011806,
     "end_time": "2021-01-30T15:44:43.769531",
     "exception": false,
     "start_time": "2021-01-30T15:44:43.757725",
     "status": "completed"
    },
    "tags": []
   },
   "outputs": [],
   "source": [
    "import shutil"
   ]
  },
  {
   "cell_type": "code",
   "execution_count": 2,
   "metadata": {
    "execution": {
     "iopub.execute_input": "2021-01-30T15:44:43.777471Z",
     "iopub.status.busy": "2021-01-30T15:44:43.776793Z",
     "iopub.status.idle": "2021-01-30T15:45:38.625545Z",
     "shell.execute_reply": "2021-01-30T15:45:38.626041Z"
    },
    "papermill": {
     "duration": 54.853943,
     "end_time": "2021-01-30T15:45:38.626253",
     "exception": false,
     "start_time": "2021-01-30T15:44:43.772310",
     "status": "completed"
    },
    "tags": []
   },
   "outputs": [
    {
     "data": {
      "text/plain": [
       "'/kaggle/working/images.zip'"
      ]
     },
     "execution_count": 2,
     "metadata": {},
     "output_type": "execute_result"
    }
   ],
   "source": [
    "shutil.make_archive('/kaggle/working/images/', 'zip', '/kaggle/input/gan-getting-started/photo_jpg/')"
   ]
  }
 ],
 "metadata": {
  "kernelspec": {
   "display_name": "Python 3",
   "language": "python",
   "name": "python3"
  },
  "language_info": {
   "codemirror_mode": {
    "name": "ipython",
    "version": 3
   },
   "file_extension": ".py",
   "mimetype": "text/x-python",
   "name": "python",
   "nbconvert_exporter": "python",
   "pygments_lexer": "ipython3",
   "version": "3.8.5"
  },
  "papermill": {
   "default_parameters": {},
   "duration": 60.833193,
   "end_time": "2021-01-30T15:45:39.238726",
   "environment_variables": {},
   "exception": null,
   "input_path": "__notebook__.ipynb",
   "output_path": "__notebook__.ipynb",
   "parameters": {},
   "start_time": "2021-01-30T15:44:38.405533",
   "version": "2.2.2"
  }
 },
 "nbformat": 4,
 "nbformat_minor": 4
}
