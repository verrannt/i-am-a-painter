{
 "cells": [
  {
   "cell_type": "markdown",
   "id": "mental-memorabilia",
   "metadata": {},
   "source": [
    "## Baseline model\n",
    "The baseline model was the kernel from which we started adapting. This kernel can be found at https://www.kaggle.com/joackobengochea/cyclegan-with-data-augmentation?scriptVersionId=52447338 (version 5). We do not redistribute this notebook in our repository as to not distribute the notebook without consent, and to not arise the thought that it is of our writing."
   ]
  }
 ],
 "metadata": {
  "kernelspec": {
   "display_name": "Python 3",
   "language": "python",
   "name": "python3"
  },
  "language_info": {
   "codemirror_mode": {
    "name": "ipython",
    "version": 3
   },
   "file_extension": ".py",
   "mimetype": "text/x-python",
   "name": "python",
   "nbconvert_exporter": "python",
   "pygments_lexer": "ipython3",
   "version": "3.8.5"
  }
 },
 "nbformat": 4,
 "nbformat_minor": 5
}
